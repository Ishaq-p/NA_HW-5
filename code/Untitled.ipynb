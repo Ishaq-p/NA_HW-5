{
 "cells": [
  {
   "cell_type": "code",
   "execution_count": 3,
   "id": "be1a074e",
   "metadata": {},
   "outputs": [],
   "source": [
    "def lagrange_tabular(x, x_values, y_values):\n",
    "    n = len(x_values)\n",
    "    y = 0\n",
    "    for i in range(n):\n",
    "        term = y_values[i]\n",
    "        for j in range(n):\n",
    "            if j != i:\n",
    "                term *= (x - x_values[j]) / (x_values[i] - x_values[j])\n",
    "        y += term\n",
    "    return y\n"
   ]
  },
  {
   "cell_type": "code",
   "execution_count": 6,
   "id": "8ad99a79",
   "metadata": {},
   "outputs": [
    {
     "name": "stdout",
     "output_type": "stream",
     "text": [
      "14.799391798418974\n"
     ]
    }
   ],
   "source": [
    "x = 8\n",
    "x_values = [0, 48, 80, 92]\n",
    "y_values = [13.649, 40.349, 70.586, 80.811]\n",
    "y = lagrange_tabular(x, x_values, y_values)\n",
    "print(y) # output: 7.0"
   ]
  },
  {
   "cell_type": "code",
   "execution_count": 7,
   "id": "ead14526",
   "metadata": {},
   "outputs": [
    {
     "name": "stdout",
     "output_type": "stream",
     "text": [
      "79.21264474740615\n"
     ]
    }
   ],
   "source": [
    "x = 90\n",
    "x_values = [0, 48, 80, 92]\n",
    "y_values = [13.649, 40.349, 70.586, 80.811]\n",
    "y = lagrange_tabular(x, x_values, y_values)\n",
    "print(y) # output: 7.0"
   ]
  },
  {
   "cell_type": "code",
   "execution_count": 8,
   "id": "45891e57",
   "metadata": {},
   "outputs": [
    {
     "name": "stdout",
     "output_type": "stream",
     "text": [
      "87.32237466843198\n"
     ]
    }
   ],
   "source": [
    "x = 101\n",
    "x_values = [0, 48, 80, 92]\n",
    "y_values = [13.649, 40.349, 70.586, 80.811]\n",
    "y = lagrange_tabular(x, x_values, y_values)\n",
    "print(y) # output: 7.0"
   ]
  },
  {
   "cell_type": "code",
   "execution_count": null,
   "id": "6d0ce48d",
   "metadata": {},
   "outputs": [],
   "source": []
  },
  {
   "cell_type": "code",
   "execution_count": null,
   "id": "4db5bea6",
   "metadata": {},
   "outputs": [],
   "source": []
  },
  {
   "cell_type": "code",
   "execution_count": null,
   "id": "5c18693d",
   "metadata": {},
   "outputs": [],
   "source": [
    "# importing libraries\n",
    "import cv2\n",
    "import numpy as np\n",
    "\n",
    "# reading image\n",
    "img = cv2.imread(\"cating4.jpg\")\n",
    "\n",
    "# Edges\n",
    "gray = cv2.cvtColor(img, cv2.COLOR_BGR2GRAY)\n",
    "gray = cv2.medianBlur (gray, 5)\n",
    "edges= cv2.adaptiveThreshold(gray, 255,cv2.ADAPTIVE_THRESH_MEAN_C,cv2.THRESH_BINARY, 9, 5)\n",
    "\n",
    "# Cartoonization\n",
    "color= cv2.bilateralFilter(img, 9, 250, 250)\n",
    "cartoon= cv2.bitwise_and(color, color, mask=edges)\n",
    "\n",
    "cv2.imshow(\"Image\", img)\n",
    "cv2.imshow(\"edges\", edges)\n",
    "cv2.imshow(\"Cartoon\", cartoon)\n",
    "cv2.waitKey(0)\n",
    "cv2.destroyAllWindows()"
   ]
  },
  {
   "cell_type": "code",
   "execution_count": null,
   "id": "1aeca71b",
   "metadata": {},
   "outputs": [],
   "source": []
  },
  {
   "cell_type": "code",
   "execution_count": null,
   "id": "2e753896",
   "metadata": {},
   "outputs": [],
   "source": []
  },
  {
   "cell_type": "code",
   "execution_count": 1,
   "id": "debe69c7",
   "metadata": {},
   "outputs": [],
   "source": [
    "import tkinter as tk\n",
    "from tkinter import messagebox\n",
    "import sqlite3\n",
    "\n",
    "def create_table():\n",
    "    conn = sqlite3.connect('login_info.db')\n",
    "    c = conn.cursor()\n",
    "    c.execute('''CREATE TABLE IF NOT EXISTS users\n",
    "                 (username TEXT, password TEXT)''')\n",
    "    conn.commit()\n",
    "    conn.close()\n",
    "\n",
    "def save_credentials(username, password):\n",
    "    conn = sqlite3.connect('login_info.db')\n",
    "    c = conn.cursor()\n",
    "    c.execute(\"INSERT INTO users (username, password) VALUES (?, ?)\",\n",
    "              (username, password))\n",
    "    conn.commit()\n",
    "    conn.close()\n",
    "\n",
    "def login():\n",
    "    username = entry_username.get()\n",
    "    password = entry_password.get()\n",
    "\n",
    "    conn = sqlite3.connect('login_info.db')\n",
    "    c = conn.cursor()\n",
    "    c.execute(\"SELECT * FROM users WHERE username=? AND password=?\",\n",
    "              (username, password))\n",
    "    result = c.fetchone()\n",
    "    conn.close()\n",
    "\n",
    "    if result:\n",
    "        messagebox.showinfo(\"Login\", f\"Logged in as {username}\")\n",
    "        open_profile_window(username)\n",
    "    else:\n",
    "        messagebox.showerror(\"Login\", \"Invalid username or password\")\n",
    "\n",
    "def signup():\n",
    "    username = entry_username.get()\n",
    "    password = entry_password.get()\n",
    "\n",
    "    conn = sqlite3.connect('login_info.db')\n",
    "    c = conn.cursor()\n",
    "    c.execute(\"SELECT * FROM users WHERE username=?\", (username,))\n",
    "    result = c.fetchone()\n",
    "\n",
    "    if result:\n",
    "        messagebox.showerror(\"Signup\", \"Username already exists\")\n",
    "    else:\n",
    "        save_credentials(username, password)\n",
    "        messagebox.showinfo(\"Signup\", f\"Signup successful for {username}\")\n",
    "\n",
    "def view_users():\n",
    "    conn = sqlite3.connect('login_info.db')\n",
    "    c = conn.cursor()\n",
    "    c.execute(\"SELECT * FROM users\")\n",
    "    rows = c.fetchall()\n",
    "    conn.close()\n",
    "\n",
    "    if rows:\n",
    "        user_info = \"Username\\tPassword\\n\"\n",
    "        user_info += \"------------------------\\n\"\n",
    "        for row in rows:\n",
    "            user_info += f\"{row[0]}\\t\\t{row[1]}\\n\"\n",
    "\n",
    "        messagebox.showinfo(\"User Information\", user_info)\n",
    "    else:\n",
    "        messagebox.showinfo(\"User Information\", \"No users found\")\n",
    "\n",
    "def open_profile_window(username):\n",
    "    window.withdraw()  # Hide the main login/signup window\n",
    "\n",
    "    profile_window = tk.Tk()\n",
    "    profile_window.title(\"User Profile\")\n",
    "    profile_window.geometry(\"300x200\")\n",
    "\n",
    "    label_username = tk.Label(profile_window, text=f\"Username: {username}\", font=font)\n",
    "    label_username.pack(pady=10)\n",
    "\n",
    "    label_profile = tk.Label(profile_window, text=\"User profile goes here...\", font=font)\n",
    "    label_profile.pack(pady=10)\n",
    "\n",
    "    profile_window.mainloop()\n",
    "\n",
    "# Create the main window\n",
    "window = tk.Tk()\n",
    "window.title(\"Login/Signup\")\n",
    "\n",
    "# Set window dimensions and center it on the screen\n",
    "window_width = 400\n",
    "window_height = 300\n",
    "screen_width = window.winfo_screenwidth()\n",
    "screen_height = window.winfo_screenheight()\n",
    "x = int((screen_width / 2) - (window_width / 2))\n",
    "y = int((screen_height / 2) - (window_height / 2))\n",
    "window.geometry(f\"{window_width}x{window_height}+{x}+{y}\")\n",
    "\n",
    "# Set window background color\n",
    "window.config(bg=\"#F0F0F0\")\n",
    "\n",
    "# Set custom font\n",
    "font = (\"Arial\", 12)\n",
    "\n",
    "# Create labels and entry widgets for username and password\n",
    "label_username = tk.Label(window, text=\"Username:\", font=font, bg=\"#F0F0F0\")\n",
    "label_username.pack(pady=10)\n",
    "entry_username = tk.Entry(window, font=font, bd=2)\n",
    "entry_username.pack(pady=5)\n",
    "\n",
    "label_password = tk.Label(window, text=\"Password:\", font=font, bg=\"#F0F0F0\")\n",
    "label_password.pack(pady=10)\n",
    "entry_password = tk.Entry(window, show=\"*\", font=font, bd=2)\n",
    "entry_password.pack(pady=5)\n",
    "\n",
    "# Create login, signup, and view users buttons with custom colors\n",
    "login_button = tk.Button(window, text=\"Login\", font=font, bg=\"#4CAF50\", fg=\"white\", bd=0, command=login)\n",
    "login_button.pack(pady=15, ipadx=20, ipady=5)\n",
    "\n",
    "signup_button = tk.Button(window, text=\"Signup\", font=font, bg=\"#2196F3\", fg=\"white\", bd=0, command=signup)\n",
    "signup_button.pack(pady=5, ipadx=20, ipady=5)\n",
    "\n",
    "view_users_button = tk.Button(window, text=\"View Users\", font=font, bg=\"#FF9800\", fg=\"white\", bd=0, command=view_users)\n",
    "view_users_button.pack(pady=5, ipadx=20, ipady=5)\n",
    "\n",
    "# Create database table if it doesn't exist\n",
    "create_table()\n",
    "\n",
    "# Run the main event loop\n",
    "window.mainloop()\n",
    "\n"
   ]
  },
  {
   "cell_type": "code",
   "execution_count": null,
   "id": "ce65b6b8",
   "metadata": {},
   "outputs": [],
   "source": []
  },
  {
   "cell_type": "code",
   "execution_count": null,
   "id": "1cb46728",
   "metadata": {},
   "outputs": [],
   "source": []
  },
  {
   "cell_type": "code",
   "execution_count": null,
   "id": "5f9a7d9d",
   "metadata": {},
   "outputs": [],
   "source": []
  },
  {
   "cell_type": "code",
   "execution_count": 2,
   "id": "626ff127",
   "metadata": {},
   "outputs": [],
   "source": [
    "import tkinter as tk\n",
    "import cv2\n",
    "from PIL import Image, ImageTk\n",
    "import numpy as np\n",
    "\n",
    "# Create a cascade classifier for face detection\n",
    "face_cascade = cv2.CascadeClassifier(cv2.data.haarcascades + 'haarcascade_frontalface_default.xml')\n",
    "\n",
    "# Load the crown image with transparency\n",
    "crown_image = Image.open(\"crown.png\").convert(\"RGBA\")\n",
    "crown_width, crown_height = crown_image.size\n",
    "crown_scale = 2  # Make the crown larger\n",
    "crown_image = crown_image.resize((int(crown_width * crown_scale), int(crown_height * crown_scale)))\n",
    "crown_width, crown_height = crown_image.size\n",
    "crown_image_np = np.array(crown_image)\n",
    "\n",
    "def detect_faces(frame):\n",
    "    gray = cv2.cvtColor(frame, cv2.COLOR_BGR2GRAY)\n",
    "    faces = face_cascade.detectMultiScale(gray, scaleFactor=1.3, minNeighbors=5, minSize=(30, 30))\n",
    "    for (x, y, w, h) in faces:\n",
    "        cv2.rectangle(frame, (x, y), (x+w, y+h), (0, 255, 0), 2)\n",
    "        # Calculate percentage based on face area\n",
    "        face_area = w * h\n",
    "        total_area = frame.shape[0] * frame.shape[1]\n",
    "        percentage = int((face_area / total_area) * 100)\n",
    "        # Display the percentage on the frame\n",
    "        cv2.putText(frame, f\"{percentage}%\", (x, y - 10), cv2.FONT_HERSHEY_SIMPLEX, 0.9, (0, 255, 0), 2)\n",
    "        # Add the crown on top of the head\n",
    "        crown_x = int(x + w/2 - crown_width/2)\n",
    "        crown_y = y - crown_height\n",
    "        if crown_y > 0:\n",
    "            print(\"1\")\n",
    "            alpha_mask = crown_image_np[:, :, 3] / 255.0\n",
    "            for c in range(0, 3):\n",
    "                frame[crown_y: crown_y + crown_height, crown_x: crown_x + crown_width, c] = crown_image_np[:, :, c] * alpha_mask + frame[crown_y: crown_y + crown_height, crown_x: crown_x + crown_width, c] * (1 - alpha_mask)\n",
    "    return frame\n",
    "\n",
    "class FaceRecognitionApp:\n",
    "    def __init__(self, root):\n",
    "        self.root = root\n",
    "        self.root.title(\"Face Recognition App\")\n",
    "\n",
    "        self.video_capture = cv2.VideoCapture(0)\n",
    "        self.image = None  # Hold a reference to the image object\n",
    "\n",
    "        self.label = tk.Label(self.root)\n",
    "        self.label.pack()\n",
    "\n",
    "        self.capture_button = tk.Button(self.root, text=\"Capture\", command=self.capture_image)\n",
    "        self.capture_button.pack(pady=5)\n",
    "\n",
    "        self.release_button = tk.Button(self.root, text=\"Release Camera\", command=self.release_camera)\n",
    "        self.release_button.pack(pady=10)\n",
    "\n",
    "        self.get_camera_button = tk.Button(self.root, text=\"Get Camera\", command=self.get_camera)\n",
    "        self.get_camera_button.pack(pady=5)\n",
    "\n",
    "        self.quit_button = tk.Button(self.root, text=\"Quit\", command=self.quit)\n",
    "        self.quit_button.pack(pady=5)\n",
    "\n",
    "    def quit(self):\n",
    "        self.release_camera()\n",
    "        self.root.destroy()\n",
    "\n",
    "    def release_camera(self):\n",
    "        if self.video_capture is not None:\n",
    "            self.video_capture.release()\n",
    "            self.video_capture = None\n",
    "\n",
    "    def get_camera(self):\n",
    "        if self.video_capture is None:\n",
    "            self.video_capture = cv2.VideoCapture(0)\n",
    "\n",
    "    def capture_image(self):\n",
    "        if self.video_capture is not None:\n",
    "            ret, frame = self.video_capture.read()\n",
    "            frame = cv2.flip(frame, 1)  # Flip the frame horizontally\n",
    "            frame = detect_faces(frame)\n",
    "            cv2.imwrite(\"captured_image.jpg\", frame)\n",
    "            print(\"Image captured and saved as captured_image.jpg\")\n",
    "\n",
    "    def update_frame(self):\n",
    "        if self.video_capture is not None:\n",
    "            ret, frame = self.video_capture.read()\n",
    "            frame = cv2.flip(frame, 1)  # Flip the frame horizontally\n",
    "            frame = detect_faces(frame)\n",
    "\n",
    "            image = cv2.cvtColor(frame, cv2.COLOR_BGR2RGB)\n",
    "            image = Image.fromarray(image)\n",
    "            self.image = ImageTk.PhotoImage(image)\n",
    "            self.label.configure(image=self.image)\n",
    "        self.root.after(10, self.update_frame)\n",
    "\n",
    "    def start(self):\n",
    "        self.update_frame()\n",
    "        self.root.mainloop()\n",
    "\n",
    "if __name__ == \"__main__\":\n",
    "    # Set up the GUI\n",
    "    root = tk.Tk()\n",
    "    app = FaceRecognitionApp(root)\n",
    "    app.start()\n",
    "\n"
   ]
  },
  {
   "cell_type": "code",
   "execution_count": null,
   "id": "887de609",
   "metadata": {},
   "outputs": [],
   "source": []
  },
  {
   "cell_type": "code",
   "execution_count": null,
   "id": "e8495f78",
   "metadata": {},
   "outputs": [],
   "source": []
  },
  {
   "cell_type": "code",
   "execution_count": 53,
   "id": "90c13a36",
   "metadata": {},
   "outputs": [],
   "source": [
    "def RE(p1,p0):\n",
    "    return abs(p1-p0)/abs(p1)"
   ]
  },
  {
   "cell_type": "code",
   "execution_count": null,
   "id": "1f0262a8",
   "metadata": {},
   "outputs": [],
   "source": []
  },
  {
   "cell_type": "code",
   "execution_count": null,
   "id": "a1ed96b7",
   "metadata": {},
   "outputs": [],
   "source": []
  },
  {
   "cell_type": "code",
   "execution_count": null,
   "id": "19d3d8c3",
   "metadata": {},
   "outputs": [],
   "source": []
  },
  {
   "cell_type": "code",
   "execution_count": 5,
   "id": "7f34f679",
   "metadata": {},
   "outputs": [],
   "source": [
    "import numpy as np"
   ]
  },
  {
   "cell_type": "code",
   "execution_count": 6,
   "id": "516738cc",
   "metadata": {},
   "outputs": [],
   "source": [
    "def f(x):\n",
    "    return (x-np.sin(x)) / (1-np.cos(x)) - 0.9"
   ]
  },
  {
   "cell_type": "code",
   "execution_count": 7,
   "id": "4f2bfd4c",
   "metadata": {},
   "outputs": [],
   "source": [
    "x0=2.250713\n",
    "x1=2.242987\n",
    "x=2.242883"
   ]
  },
  {
   "cell_type": "code",
   "execution_count": 8,
   "id": "cca9ae8b",
   "metadata": {},
   "outputs": [],
   "source": [
    "x2 = x1 - f(x1) * (x1 - x0) / (f(x1) - f(x0))"
   ]
  },
  {
   "cell_type": "code",
   "execution_count": 9,
   "id": "5ef254c6",
   "metadata": {},
   "outputs": [
    {
     "data": {
      "text/plain": [
       "2.2428825048594874"
      ]
     },
     "execution_count": 9,
     "metadata": {},
     "output_type": "execute_result"
    }
   ],
   "source": [
    "x2"
   ]
  },
  {
   "cell_type": "code",
   "execution_count": 11,
   "id": "2c8bb564",
   "metadata": {
    "scrolled": true
   },
   "outputs": [
    {
     "data": {
      "text/plain": [
       "-4.458549313516173e-07"
      ]
     },
     "execution_count": 11,
     "metadata": {},
     "output_type": "execute_result"
    }
   ],
   "source": [
    "(2.242882-2.242883)/2.242882"
   ]
  },
  {
   "cell_type": "code",
   "execution_count": null,
   "id": "99f4a6da",
   "metadata": {},
   "outputs": [],
   "source": []
  },
  {
   "cell_type": "code",
   "execution_count": null,
   "id": "7e1c4a57",
   "metadata": {},
   "outputs": [],
   "source": []
  },
  {
   "cell_type": "code",
   "execution_count": null,
   "id": "b0f61b64",
   "metadata": {},
   "outputs": [],
   "source": []
  },
  {
   "cell_type": "code",
   "execution_count": null,
   "id": "14cdc231",
   "metadata": {},
   "outputs": [],
   "source": []
  },
  {
   "cell_type": "code",
   "execution_count": 69,
   "id": "1abcce8b",
   "metadata": {},
   "outputs": [
    {
     "data": {
      "text/plain": [
       "[13.649, 35.606, 70.586, 84.68]"
      ]
     },
     "execution_count": 69,
     "metadata": {},
     "output_type": "execute_result"
    }
   ],
   "source": [
    "xx=101\n",
    "x=[0,43, 80, 94]\n",
    "y=[13.649, 35.606, 70.586, 84.680]\n",
    "y"
   ]
  },
  {
   "cell_type": "code",
   "execution_count": 70,
   "id": "15ce4a77",
   "metadata": {},
   "outputs": [
    {
     "data": {
      "text/plain": [
       "[-0.026366897575457696,\n",
       " 0.18297777942100787,\n",
       " -0.989527027027027,\n",
       " 1.8329161451814768]"
      ]
     },
     "execution_count": 70,
     "metadata": {},
     "output_type": "execute_result"
    }
   ],
   "source": [
    "L0 = ((xx-x[1])*(xx-x[2])*(xx-x[3]))/((x[0]-x[1])*(x[0]-x[2])*(x[0]-x[3]))\n",
    "L1 = ((xx-x[0])*(xx-x[2])*(xx-x[3])) / ((x[1]-x[0])*(x[1]-x[2])*(x[1]-x[3]))\n",
    "L2 = ((xx-x[0])*(xx-x[1])*(xx-x[3])) / ((x[2]-x[0])*(x[2]-x[1])*(x[2]-x[3]))\n",
    "L3 = ((xx-x[0])*(xx-x[1])*(xx-x[2])) / ((x[3]-x[0])*(x[3]-x[1])*(x[3]-x[2]))\n",
    "Li=[L0,L1,L2,L3]\n",
    "Li"
   ]
  },
  {
   "cell_type": "code",
   "execution_count": 71,
   "id": "a6d4b92d",
   "metadata": {},
   "outputs": [
    {
     "name": "stdout",
     "output_type": "stream",
     "text": [
      "-0.3598817850074221\n",
      "6.515106814064406\n",
      "-69.84675472972972\n",
      "155.21133917396747\n",
      "\n",
      "L:\t 91.51980947329474\n"
     ]
    }
   ],
   "source": [
    "result=0\n",
    "for i in range(4):\n",
    "    print(Li[i]*y[i])\n",
    "    result+=Li[i]*y[i]\n",
    "\n",
    "print(\"\\nL:\\t\",result)"
   ]
  },
  {
   "cell_type": "code",
   "execution_count": 73,
   "id": "a8353eac",
   "metadata": {},
   "outputs": [
    {
     "data": {
      "text/plain": [
       "0.0011375194047428933"
      ]
     },
     "execution_count": 73,
     "metadata": {},
     "output_type": "execute_result"
    }
   ],
   "source": [
    "RE(74.724,74.639)"
   ]
  },
  {
   "cell_type": "code",
   "execution_count": 76,
   "id": "9ea43540",
   "metadata": {},
   "outputs": [
    {
     "data": {
      "text/plain": [
       "0.035725"
      ]
     },
     "execution_count": 76,
     "metadata": {},
     "output_type": "execute_result"
    }
   ],
   "source": [
    "round(RE(50.665,48.855), 6)"
   ]
  },
  {
   "cell_type": "code",
   "execution_count": null,
   "id": "8ac6b7f0",
   "metadata": {},
   "outputs": [],
   "source": []
  }
 ],
 "metadata": {
  "kernelspec": {
   "display_name": "Python 3 (ipykernel)",
   "language": "python",
   "name": "python3"
  },
  "language_info": {
   "codemirror_mode": {
    "name": "ipython",
    "version": 3
   },
   "file_extension": ".py",
   "mimetype": "text/x-python",
   "name": "python",
   "nbconvert_exporter": "python",
   "pygments_lexer": "ipython3",
   "version": "3.10.6"
  }
 },
 "nbformat": 4,
 "nbformat_minor": 5
}
